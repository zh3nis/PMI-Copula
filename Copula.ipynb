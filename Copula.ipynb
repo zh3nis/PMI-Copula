{
 "cells": [
  {
   "cell_type": "code",
   "execution_count": 1,
   "metadata": {},
   "outputs": [],
   "source": [
    "import numpy as np\n",
    "import matplotlib.pyplot as plt\n",
    "from representations.explicit import Explicit\n",
    "from sklearn.utils.extmath import randomized_svd\n",
    "import scipy\n",
    "\n",
    "%matplotlib inline"
   ]
  },
  {
   "cell_type": "code",
   "execution_count": 2,
   "metadata": {},
   "outputs": [],
   "source": [
    "explicit = Explicit(\"pmis/w5/pmi\", normalize=True)\n",
    "PMI = explicit.m.tocsr()"
   ]
  },
  {
   "cell_type": "code",
   "execution_count": 3,
   "metadata": {},
   "outputs": [],
   "source": [
    "import pandas as pd\n",
    "\n",
    "counts = pd.read_csv('pmis/w5/counts.words.vocab', \n",
    "                     header=None, \n",
    "                     names=['word', 'count'], \n",
    "                     delimiter=' ', \n",
    "                     index_col=0, \n",
    "                     squeeze=True, \n",
    "                     na_filter=False)\n",
    "\n",
    "vocab_alphabetic = pd.read_csv('pmis/w5/pmi.words.vocab', \n",
    "                               header=None, \n",
    "                               names=['word'], \n",
    "                               delimiter=' ', \n",
    "                               squeeze=True, \n",
    "                               na_filter=False)\n",
    "\n",
    "words_alphabetic = vocab_alphabetic.values\n",
    "words_by_frequency = counts.index.values\n",
    "\n",
    "byfreq2alphabetic = np.argsort(words_by_frequency)\n",
    "permutation = np.argsort(byfreq2alphabetic)"
   ]
  },
  {
   "cell_type": "code",
   "execution_count": 4,
   "metadata": {},
   "outputs": [],
   "source": [
    "vocab_size = PMI.shape[0]\n",
    "emb_dim = 500"
   ]
  },
  {
   "cell_type": "code",
   "execution_count": null,
   "metadata": {},
   "outputs": [],
   "source": [
    "P = scipy.sparse.csr_matrix((np.ones(vocab_size), (np.arange(vocab_size), permutation)))\n",
    "\n",
    "PMI_ = P @ PMI @ P.T"
   ]
  },
  {
   "cell_type": "code",
   "execution_count": 42,
   "metadata": {},
   "outputs": [],
   "source": [
    "U1, S1, V1T = randomized_svd(PMI, n_components=500)"
   ]
  },
  {
   "cell_type": "code",
   "execution_count": 43,
   "metadata": {},
   "outputs": [],
   "source": [
    "W1 = U1 @ np.diag(np.sqrt(S1))"
   ]
  },
  {
   "cell_type": "code",
   "execution_count": 47,
   "metadata": {},
   "outputs": [],
   "source": [
    "!rm embeddings/*\n",
    "np.savetxt('embeddings/w1.txt', W1, delimiter=' ')\n",
    "!echo $vocab_size $emb_dim > embeddings/emb1\n",
    "#!cut pmis/w5/counts.words.vocab -d\" \" -f1 > pmis/w5/counts.vocab\n",
    "!paste pmis/w5/pmi.words.vocab embeddings/w1.txt -d \" \" >> embeddings/emb1"
   ]
  },
  {
   "cell_type": "code",
   "execution_count": 45,
   "metadata": {},
   "outputs": [],
   "source": [
    "import gensim\n",
    "from gensim.models import KeyedVectors\n",
    "from gensim.test.utils import datapath\n",
    "import os"
   ]
  },
  {
   "cell_type": "code",
   "execution_count": 48,
   "metadata": {},
   "outputs": [
    {
     "name": "stdout",
     "output_type": "stream",
     "text": [
      "WS353 = 0.643\n",
      "Google = 0.285\n"
     ]
    }
   ],
   "source": [
    "wv_from_text = KeyedVectors.load_word2vec_format(os.path.join(\"embeddings\", \"emb1\"), binary=False)\n",
    "ws353 = wv_from_text.evaluate_word_pairs(datapath('wordsim353.tsv'))\n",
    "google = wv_from_text.evaluate_word_analogies(datapath('questions-words.txt'))\n",
    "print('WS353 = %.3f' % ws353[0][0])\n",
    "print('Google = %.3f' % google[0])"
   ]
  },
  {
   "cell_type": "code",
   "execution_count": 5,
   "metadata": {},
   "outputs": [],
   "source": [
    "cdf = counts.cumsum() / counts.sum()"
   ]
  },
  {
   "cell_type": "code",
   "execution_count": 6,
   "metadata": {},
   "outputs": [],
   "source": [
    "cdf_abc = cdf.sort_index()"
   ]
  },
  {
   "cell_type": "code",
   "execution_count": null,
   "metadata": {},
   "outputs": [],
   "source": [
    "import torch\n",
    "from torch.utils.data import Dataset, DataLoader"
   ]
  },
  {
   "cell_type": "code",
   "execution_count": null,
   "metadata": {},
   "outputs": [],
   "source": [
    "x_all = torch.tensor(list(zip(PMI.nonzero()[0], PMI.nonzero()[1])), dtype=torch.long)"
   ]
  },
  {
   "cell_type": "code",
   "execution_count": null,
   "metadata": {},
   "outputs": [],
   "source": [
    "y_all = torch.tensor(PMI.data)"
   ]
  },
  {
   "cell_type": "code",
   "execution_count": null,
   "metadata": {},
   "outputs": [],
   "source": [
    "cdf_torch = torch.tensor(cdf_abc.values)"
   ]
  },
  {
   "cell_type": "markdown",
   "metadata": {},
   "source": [
    "### Optimization"
   ]
  },
  {
   "cell_type": "code",
   "execution_count": null,
   "metadata": {},
   "outputs": [],
   "source": [
    "class Data(Dataset):\n",
    "    \n",
    "    def __init__(self):\n",
    "        self.x = x_all\n",
    "        self.y = y_all\n",
    "        self.len = self.x.shape[0]\n",
    "        \n",
    "    def __getitem__(self, index):    \n",
    "        return self.x[index], self.y[index]\n",
    "    \n",
    "    def __len__(self):\n",
    "        return self.len"
   ]
  },
  {
   "cell_type": "code",
   "execution_count": null,
   "metadata": {},
   "outputs": [],
   "source": [
    "dataset = Data()"
   ]
  },
  {
   "cell_type": "code",
   "execution_count": null,
   "metadata": {},
   "outputs": [],
   "source": [
    "bs = 500000\n",
    "trainloader = DataLoader(dataset = dataset, batch_size = bs)"
   ]
  },
  {
   "cell_type": "code",
   "execution_count": null,
   "metadata": {},
   "outputs": [],
   "source": [
    "rho = torch.tensor(0.5, requires_grad = True)"
   ]
  },
  {
   "cell_type": "code",
   "execution_count": null,
   "metadata": {},
   "outputs": [],
   "source": [
    "def forward(x):\n",
    "    a = torch.sqrt(torch.tensor(2.0)) * torch.clamp(torch.erfinv(2 * cdf_torch[x[:, 0]] - 1), -3, 3)\n",
    "    b = torch.sqrt(torch.tensor(2.0)) * torch.clamp(torch.erfinv(2 * cdf_torch[x[:, 1]] - 1), -3, 3)\n",
    "    output = -0.5 * torch.log(1 - rho * rho) - ((a * a + b * b) * rho * rho - 2 * a * b * rho) / (2 * (1 - rho * rho))\n",
    "    return output"
   ]
  },
  {
   "cell_type": "code",
   "execution_count": null,
   "metadata": {},
   "outputs": [],
   "source": [
    "def criterion(yhat, y):\n",
    "    #return torch.mean((yhat - y) ** 2)\n",
    "    return torch.mean(-y * torch.log(yhat))"
   ]
  },
  {
   "cell_type": "code",
   "execution_count": null,
   "metadata": {},
   "outputs": [],
   "source": [
    "optimizer = torch.optim.Adam([rho], lr=0.2)"
   ]
  },
  {
   "cell_type": "code",
   "execution_count": null,
   "metadata": {},
   "outputs": [],
   "source": [
    "epochs = 100\n",
    "losses = []\n",
    "\n",
    "for epoch in range(epochs):\n",
    "    losses[:] = []\n",
    "    for x, y in trainloader:\n",
    "        optimizer.zero_grad()\n",
    "        yhat = forward(x)\n",
    "        loss = criterion(yhat, y)\n",
    "        loss.backward()\n",
    "        optimizer.step()\n",
    "        print(loss.data, rho)\n",
    "        losses.append(loss.data)\n",
    "    print(\"Epoch loss:\", np.mean(losses))"
   ]
  },
  {
   "cell_type": "markdown",
   "metadata": {},
   "source": [
    "### Copula -> Word Vectors"
   ]
  },
  {
   "cell_type": "code",
   "execution_count": null,
   "metadata": {},
   "outputs": [],
   "source": [
    "import gensim\n",
    "from gensim.models import KeyedVectors\n",
    "from gensim.test.utils import datapath\n",
    "import os"
   ]
  },
  {
   "cell_type": "code",
   "execution_count": 7,
   "metadata": {},
   "outputs": [],
   "source": [
    "w1 = PMI.nonzero()[0]\n",
    "w2 = PMI.nonzero()[1]"
   ]
  },
  {
   "cell_type": "code",
   "execution_count": 8,
   "metadata": {},
   "outputs": [],
   "source": [
    "my_cdf = cdf_abc.values"
   ]
  },
  {
   "cell_type": "code",
   "execution_count": 10,
   "metadata": {},
   "outputs": [],
   "source": [
    "a = np.sqrt(2.0) * np.clip(scipy.special.erfinv(2 * my_cdf[w1] - 1), -3, 3)\n",
    "b = np.sqrt(2.0) * np.clip(scipy.special.erfinv(2 * my_cdf[w2] - 1), -3, 3)"
   ]
  },
  {
   "cell_type": "code",
   "execution_count": 41,
   "metadata": {},
   "outputs": [
    {
     "name": "stdout",
     "output_type": "stream",
     "text": [
      "rho = -0.90: WS353 = 0.176, Google = 0.005\n",
      "rho = -0.80: WS353 = 0.145, Google = 0.004\n",
      "rho = -0.70: WS353 = 0.125, Google = 0.005\n",
      "rho = -0.60: WS353 = 0.107, Google = 0.004\n",
      "rho = -0.50: WS353 = 0.094, Google = 0.004\n",
      "rho = -0.40: WS353 = 0.083, Google = 0.004\n",
      "rho = -0.30: WS353 = 0.066, Google = 0.005\n",
      "rho = -0.20: WS353 = 0.047, Google = 0.006\n",
      "rho = -0.10: WS353 = 0.042, Google = 0.008\n",
      "rho = 0.00: WS353 = nan, Google = 0.000\n",
      "rho = 0.10: WS353 = 0.134, Google = 0.021\n",
      "rho = 0.20: WS353 = 0.157, Google = 0.023\n",
      "rho = 0.30: WS353 = 0.179, Google = 0.023\n",
      "rho = 0.40: WS353 = 0.208, Google = 0.023\n",
      "rho = 0.50: WS353 = 0.227, Google = 0.019\n",
      "rho = 0.60: WS353 = 0.252, Google = 0.017\n",
      "rho = 0.70: WS353 = 0.275, Google = 0.014\n",
      "rho = 0.80: WS353 = 0.290, Google = 0.013\n",
      "rho = 0.90: WS353 = 0.311, Google = 0.014\n"
     ]
    }
   ],
   "source": [
    "rhos = []\n",
    "sims = []\n",
    "anals = []\n",
    "\n",
    "for i in range(-9, 10):\n",
    "    r = i / 10.0\n",
    "    output = -0.5 * np.log(1 - r * r) - ((a * a + b * b) * r * r - 2 * a * b * r) / (2 * (1 - r * r))\n",
    "    PMI_Copula = scipy.sparse.csr_matrix((output, (w1, w2)))\n",
    "    U1, S1, V1T = randomized_svd(PMI_Copula, n_components=500)\n",
    "    W1 = U1 @ np.diag(np.sqrt(S1))\n",
    "    \n",
    "    !rm embeddings/*\n",
    "    np.savetxt('embeddings/w1.txt', W1, delimiter=' ')\n",
    "    !echo $vocab_size $emb_dim > embeddings/emb1\n",
    "    !paste pmis/w5/pmi.words.vocab embeddings/w1.txt -d \" \" >> embeddings/emb1\n",
    "    \n",
    "    wv_from_text = KeyedVectors.load_word2vec_format(os.path.join(\"embeddings\", \"emb1\"), binary=False)\n",
    "    ws353 = wv_from_text.evaluate_word_pairs(datapath('wordsim353.tsv'))\n",
    "    google = wv_from_text.evaluate_word_analogies(datapath('questions-words.txt'))\n",
    "    print('rho = %.2f: WS353 = %.3f, Google = %.3f' % (r, ws353[0][0], google[0]))\n",
    "    \n",
    "    rhos.append(r)\n",
    "    sims.append(ws353[0][0])\n",
    "    anals.append(google[0])"
   ]
  },
  {
   "cell_type": "code",
   "execution_count": 52,
   "metadata": {},
   "outputs": [],
   "source": [
    "results = pd.DataFrame({'WS353': sims, 'Google': anals}, index=rhos)"
   ]
  },
  {
   "cell_type": "code",
   "execution_count": 59,
   "metadata": {},
   "outputs": [
    {
     "data": {
      "text/plain": [
       "Text(0.5, 0, 'rho')"
      ]
     },
     "execution_count": 59,
     "metadata": {},
     "output_type": "execute_result"
    },
    {
     "data": {
      "image/png": "[encoded data removed]",
      "text/plain": [
       "<Figure size 432x288 with 1 Axes>"
      ]
     },
     "metadata": {
      "needs_background": "light"
     },
     "output_type": "display_data"
    }
   ],
   "source": [
    "ax = results.plot()\n",
    "ax.set_xlabel('rho')"
   ]
  }
 ],
 "metadata": {
  "kernelspec": {
   "display_name": "Python 3",
   "language": "python",
   "name": "python3"
  },
  "language_info": {
   "codemirror_mode": {
    "name": "ipython",
    "version": 3
   },
   "file_extension": ".py",
   "mimetype": "text/x-python",
   "name": "python",
   "nbconvert_exporter": "python",
   "pygments_lexer": "ipython3",
   "version": "3.6.13"
  }
 },
 "nbformat": 4,
 "nbformat_minor": 2
}
